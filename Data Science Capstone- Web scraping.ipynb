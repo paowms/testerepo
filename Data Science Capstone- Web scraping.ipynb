{
    "cells": [
        {
            "cell_type": "markdown",
            "metadata": {},
            "source": "<center>\n    <img src=\"https://gitlab.com/ibm/skills-network/courses/placeholder101/-/raw/master/labs/module%201/images/IDSNlogo.png\" width=\"300\" alt=\"cognitiveclass.ai logo\"  />\n</center>\n"
        },
        {
            "cell_type": "markdown",
            "metadata": {},
            "source": "# **Space X  Falcon 9 First Stage Landing Prediction**\n"
        },
        {
            "cell_type": "markdown",
            "metadata": {},
            "source": "## Web scraping Falcon 9 and Falcon Heavy Launches Records from Wikipedia\n"
        },
        {
            "cell_type": "markdown",
            "metadata": {},
            "source": "Estimated time needed: **40** minutes\n"
        },
        {
            "cell_type": "markdown",
            "metadata": {},
            "source": "In this lab, you will be performing web scraping to collect Falcon 9 historical launch records from a Wikipedia page titled `List of Falcon 9 and Falcon Heavy launches`\n\n[https://en.wikipedia.org/wiki/List_of_Falcon\\_9\\_and_Falcon_Heavy_launches](https://en.wikipedia.org/wiki/List_of_Falcon\\_9\\_and_Falcon_Heavy_launches?utm_medium=Exinfluencer&utm_source=Exinfluencer&utm_content=000026UJ&utm_term=10006555&utm_id=NA-SkillsNetwork-Channel-SkillsNetworkCoursesIBMDS0321ENSkillsNetwork26802033-2021-01-01)\n"
        },
        {
            "cell_type": "markdown",
            "metadata": {},
            "source": "![](https://cf-courses-data.s3.us.cloud-object-storage.appdomain.cloud/IBM-DS0321EN-SkillsNetwork/labs/module\\_1\\_L2/images/Falcon9\\_rocket_family.svg)\n"
        },
        {
            "cell_type": "markdown",
            "metadata": {},
            "source": "Falcon 9 first stage will land successfully\n"
        },
        {
            "cell_type": "markdown",
            "metadata": {},
            "source": "![](https://cf-courses-data.s3.us.cloud-object-storage.appdomain.cloud/IBMDeveloperSkillsNetwork-DS0701EN-SkillsNetwork/api/Images/landing\\_1.gif)\n"
        },
        {
            "cell_type": "markdown",
            "metadata": {},
            "source": "Several examples of an unsuccessful landing are shown here:\n"
        },
        {
            "cell_type": "markdown",
            "metadata": {},
            "source": "![](https://cf-courses-data.s3.us.cloud-object-storage.appdomain.cloud/IBMDeveloperSkillsNetwork-DS0701EN-SkillsNetwork/api/Images/crash.gif)\n"
        },
        {
            "cell_type": "markdown",
            "metadata": {},
            "source": "More specifically, the launch records are stored in a HTML table shown below:\n"
        },
        {
            "cell_type": "markdown",
            "metadata": {},
            "source": "![](https://cf-courses-data.s3.us.cloud-object-storage.appdomain.cloud/IBM-DS0321EN-SkillsNetwork/labs/module\\_1\\_L2/images/falcon9-launches-wiki.png)\n"
        },
        {
            "cell_type": "markdown",
            "metadata": {},
            "source": "## Objectives\n\nWeb scrap Falcon 9 launch records with `BeautifulSoup`:\n\n*   Extract a Falcon 9 launch records HTML table from Wikipedia\n*   Parse the table and convert it into a Pandas data frame\n"
        },
        {
            "cell_type": "markdown",
            "metadata": {},
            "source": "First let's import required packages for this lab\n"
        },
        {
            "cell_type": "code",
            "execution_count": 1,
            "metadata": {},
            "outputs": [
                {
                    "name": "stdout",
                    "output_type": "stream",
                    "text": "Requirement already satisfied: beautifulsoup4 in /opt/conda/envs/Python-3.8-main/lib/python3.8/site-packages (4.9.3)\nRequirement already satisfied: soupsieve>1.2 in /opt/conda/envs/Python-3.8-main/lib/python3.8/site-packages (from beautifulsoup4) (2.2.1)\nRequirement already satisfied: requests in /opt/conda/envs/Python-3.8-main/lib/python3.8/site-packages (2.25.1)\nRequirement already satisfied: chardet<5,>=3.0.2 in /opt/conda/envs/Python-3.8-main/lib/python3.8/site-packages (from requests) (3.0.4)\nRequirement already satisfied: urllib3<1.27,>=1.21.1 in /opt/conda/envs/Python-3.8-main/lib/python3.8/site-packages (from requests) (1.26.6)\nRequirement already satisfied: idna<3,>=2.5 in /opt/conda/envs/Python-3.8-main/lib/python3.8/site-packages (from requests) (2.8)\nRequirement already satisfied: certifi>=2017.4.17 in /opt/conda/envs/Python-3.8-main/lib/python3.8/site-packages (from requests) (2021.10.8)\n"
                }
            ],
            "source": "!pip3 install beautifulsoup4\n!pip3 install requests"
        },
        {
            "cell_type": "code",
            "execution_count": 2,
            "metadata": {},
            "outputs": [],
            "source": "import sys\n\nimport requests as req\nfrom bs4 import BeautifulSoup\nimport re\nimport unicodedata\nimport pandas as pd"
        },
        {
            "cell_type": "markdown",
            "metadata": {},
            "source": "and we will provide some helper functions for you to process web scraped HTML table\n"
        },
        {
            "cell_type": "code",
            "execution_count": 3,
            "metadata": {},
            "outputs": [],
            "source": "def date_time(table_cells):\n    \"\"\"\n    This function returns the data and time from the HTML  table cell\n    Input: the  element of a table data cell extracts extra row\n    \"\"\"\n    return [data_time.strip() for data_time in list(table_cells.strings)][0:2]\n\ndef booster_version(table_cells):\n    \"\"\"\n    This function returns the booster version from the HTML  table cell \n    Input: the  element of a table data cell extracts extra row\n    \"\"\"\n    out=''.join([booster_version for i,booster_version in enumerate( table_cells.strings) if i%2==0][0:-1])\n    return out\n\ndef landing_status(table_cells):\n    \"\"\"\n    This function returns the landing status from the HTML table cell \n    Input: the  element of a table data cell extracts extra row\n    \"\"\"\n    out=[i for i in table_cells.strings][0]\n    return out\n\n\ndef get_mass(table_cells):\n    mass=unicodedata.normalize(\"NFKD\", table_cells.text).strip()\n    if mass:\n        mass.find(\"kg\")\n        new_mass=mass[0:mass.find(\"kg\")+2]\n    else:\n        new_mass=0\n    return new_mass\n\n\ndef extract_column_from_header(row):\n    \"\"\"\n    This function returns the landing status from the HTML table cell \n    Input: the  element of a table data cell extracts extra row\n    \"\"\"\n    if (row.br):\n        row.br.extract()\n    if row.a:\n        row.a.extract()\n    if row.sup:\n        row.sup.extract()\n        \n    colunm_name = ' '.join(row.contents)\n    \n    # Filter the digit and empty names\n    if not(colunm_name.strip().isdigit()):\n        colunm_name = colunm_name.strip()\n        return colunm_name    \n"
        },
        {
            "cell_type": "markdown",
            "metadata": {},
            "source": "To keep the lab tasks consistent, you will be asked to scrape the data from a snapshot of the  `List of Falcon 9 and Falcon Heavy launches` Wikipage updated on\n`9th June 2021`\n"
        },
        {
            "cell_type": "code",
            "execution_count": 4,
            "metadata": {},
            "outputs": [],
            "source": "static_url = \"https://en.wikipedia.org/w/index.php?title=List_of_Falcon_9_and_Falcon_Heavy_launches&oldid=1027686922\""
        },
        {
            "cell_type": "markdown",
            "metadata": {},
            "source": "Next, request the HTML page from the above URL and get a `response` object\n"
        },
        {
            "cell_type": "markdown",
            "metadata": {},
            "source": "### TASK 1: Request the Falcon9 Launch Wiki page from its URL\n"
        },
        {
            "cell_type": "markdown",
            "metadata": {},
            "source": "First, let's perform an HTTP GET method to request the Falcon9 Launch HTML page, as an HTTP response.\n"
        },
        {
            "cell_type": "code",
            "execution_count": 5,
            "metadata": {},
            "outputs": [],
            "source": "# use requests.get() method with the provided static_url\n# assign the response to a object\n\nresp = req.get(static_url).text"
        },
        {
            "cell_type": "markdown",
            "metadata": {},
            "source": "Create a `BeautifulSoup` object from the HTML `response`\n"
        },
        {
            "cell_type": "code",
            "execution_count": 7,
            "metadata": {},
            "outputs": [],
            "source": "# Use BeautifulSoup() to create a BeautifulSoup object from a response text content\nsoup = BeautifulSoup(resp, 'html5lib')"
        },
        {
            "cell_type": "markdown",
            "metadata": {},
            "source": "Print the page title to verify if the `BeautifulSoup` object was created properly\n"
        },
        {
            "cell_type": "code",
            "execution_count": 7,
            "metadata": {},
            "outputs": [
                {
                    "data": {
                        "text/plain": "<title>List of Falcon 9 and Falcon Heavy launches - Wikipedia</title>"
                    },
                    "execution_count": 7,
                    "metadata": {},
                    "output_type": "execute_result"
                }
            ],
            "source": "# Use soup.title attribute\nsoup.title"
        },
        {
            "cell_type": "markdown",
            "metadata": {},
            "source": "### TASK 2: Extract all column/variable names from the HTML table header\n"
        },
        {
            "cell_type": "markdown",
            "metadata": {},
            "source": "Next, we want to collect all relevant column names from the HTML table header\n"
        },
        {
            "cell_type": "markdown",
            "metadata": {},
            "source": "Let's try to find all tables on the wiki page first. If you need to refresh your memory about `BeautifulSoup`, please check the external reference link towards the end of this lab\n"
        },
        {
            "cell_type": "code",
            "execution_count": 9,
            "metadata": {},
            "outputs": [],
            "source": "# Use the find_all function in the BeautifulSoup object, with element type `table`\n# Assign the result to a list called `html_tables`\nhtml_tables = soup.find_all('table')"
        },
        {
            "cell_type": "markdown",
            "metadata": {},
            "source": "Starting from the third table is our target table contains the actual launch records.\n"
        },
        {
            "cell_type": "code",
            "execution_count": 10,
            "metadata": {},
            "outputs": [
                {
                    "name": "stdout",
                    "output_type": "stream",
                    "text": "<table class=\"wikitable plainrowheaders collapsible\" style=\"width: 100%;\">\n<tbody><tr>\n<th scope=\"col\">Flight No.\n</th>\n<th scope=\"col\">Date and<br/>time (<a href=\"/wiki/Coordinated_Universal_Time\" title=\"Coordinated Universal Time\">UTC</a>)\n</th>\n<th scope=\"col\"><a href=\"/wiki/List_of_Falcon_9_first-stage_boosters\" title=\"List of Falcon 9 first-stage boosters\">Version,<br/>Booster</a><sup class=\"reference\" id=\"cite_ref-booster_11-1\"><a href=\"#cite_note-booster-11\">[b]</a></sup>\n</th>\n<th scope=\"col\">Launch site\n</th>\n<th scope=\"col\">Payload<sup class=\"reference\" id=\"cite_ref-Dragon_12-1\"><a href=\"#cite_note-Dragon-12\">[c]</a></sup>\n</th>\n<th scope=\"col\">Payload mass\n</th>\n<th scope=\"col\">Orbit\n</th>\n<th scope=\"col\">Customer\n</th>\n<th scope=\"col\">Launch<br/>outcome\n</th>\n<th scope=\"col\"><a href=\"/wiki/Falcon_9_first-stage_landing_tests\" title=\"Falcon 9 first-stage landing tests\">Booster<br/>landing</a>\n</th></tr>\n<tr>\n<th rowspan=\"2\" scope=\"row\" style=\"text-align:center;\">8\n</th>\n<td>6 January 2014,<br/>22:06<sup class=\"reference\" id=\"cite_ref-NASA_Spaceflight_48-0\"><a href=\"#cite_note-NASA_Spaceflight-48\">[41]</a></sup>\n</td>\n<td><a href=\"/wiki/Falcon_9_v1.1\" title=\"Falcon 9 v1.1\">F9 v1.1</a>\n</td>\n<td><a href=\"/wiki/Cape_Canaveral_Space_Force_Station\" title=\"Cape Canaveral Space Force Station\">CCAFS</a>,<br/><a href=\"/wiki/Cape_Canaveral_Space_Launch_Complex_40\" title=\"Cape Canaveral Space Launch Complex 40\">SLC-40</a>\n</td>\n<td><a href=\"/wiki/Thaicom_6\" title=\"Thaicom 6\">Thaicom 6</a><sup class=\"reference\" id=\"cite_ref-sxManifest20120925_28-4\"><a href=\"#cite_note-sxManifest20120925-28\">[22]</a></sup>\n</td>\n<td>3,325\u00a0kg (7,330\u00a0lb)\n</td>\n<td><a href=\"/wiki/Geostationary_transfer_orbit\" title=\"Geostationary transfer orbit\">GTO</a>\n</td>\n<td><a href=\"/wiki/Thaicom\" title=\"Thaicom\">Thaicom</a>\n</td>\n<td class=\"table-success\" style=\"background: #9EFF9E; vertical-align: middle; text-align: center;\">Success<sup class=\"reference\" id=\"cite_ref-sn20140106_49-0\"><a href=\"#cite_note-sn20140106-49\">[42]</a></sup>\n</td>\n<td class=\"table-noAttempt\" style=\"background: #EEE; vertical-align: middle; white-space: nowrap; text-align: center;\">No attempt<br/><sup class=\"reference\" id=\"cite_ref-50\"><a href=\"#cite_note-50\">[43]</a></sup>\n</td></tr>\n<tr>\n<td colspan=\"9\">The Thai communication satellite was the second <a href=\"/wiki/Geostationary_transfer_orbit\" title=\"Geostationary transfer orbit\">GTO</a> launch for Falcon 9. The <a href=\"/wiki/United_States_Air_Force\" title=\"United States Air Force\">USAF</a> evaluated launch data from this flight as part of a separate certification program for SpaceX to qualify to fly military payloads, but found that the launch had \"unacceptable fuel reserves at engine cutoff of the stage 2 second burnoff\".<sup class=\"reference\" id=\"cite_ref-bloomberg20140722_51-0\"><a href=\"#cite_note-bloomberg20140722-51\">[44]</a></sup> Thaicom-6 was inserted into a <a href=\"/wiki/Geostationary_transfer_orbit\" title=\"Geostationary transfer orbit\">Super-Synchronous Transfer Orbit</a> of 90,039\u00a0km (55,948\u00a0mi) in <a href=\"/wiki/Apsis\" title=\"Apsis\">apogee</a> with an <a href=\"/wiki/Orbital_inclination\" title=\"Orbital inclination\">inclination</a> of 22.46\u00b0 to the <a href=\"/wiki/Equator\" title=\"Equator\">equator</a>.\n</td></tr>\n<tr>\n<th rowspan=\"2\" scope=\"row\" style=\"text-align:center;\">9\n</th>\n<td>18 April 2014,<br/>19:25<sup class=\"reference\" id=\"cite_ref-SFN_LLog_27-1\"><a href=\"#cite_note-SFN_LLog-27\">[21]</a></sup>\n</td>\n<td><a href=\"/wiki/Falcon_9_v1.1\" title=\"Falcon 9 v1.1\">F9 v1.1</a>\n</td>\n<td><a class=\"mw-redirect\" href=\"/wiki/Cape_Canaveral_Air_Force_Station\" title=\"Cape Canaveral Air Force Station\">Cape Canaveral</a>,<br/><a href=\"/wiki/Cape_Canaveral_Space_Launch_Complex_40\" title=\"Cape Canaveral Space Launch Complex 40\">LC-40</a>\n</td>\n<td><a href=\"/wiki/SpaceX_CRS-3\" title=\"SpaceX CRS-3\">SpaceX CRS-3</a><sup class=\"reference\" id=\"cite_ref-sxManifest20120925_28-5\"><a href=\"#cite_note-sxManifest20120925-28\">[22]</a></sup><br/>(Dragon C105)\n</td>\n<td>2,296\u00a0kg (5,062\u00a0lb)<sup class=\"reference\" id=\"cite_ref-52\"><a href=\"#cite_note-52\">[45]</a></sup>\n</td>\n<td><a href=\"/wiki/Low_Earth_orbit\" title=\"Low Earth orbit\">LEO</a> (<a class=\"mw-redirect\" href=\"/wiki/ISS\" title=\"ISS\">ISS</a>)\n</td>\n<td><a href=\"/wiki/NASA\" title=\"NASA\">NASA</a> (<a href=\"/wiki/Commercial_Resupply_Services\" title=\"Commercial Resupply Services\">CRS</a>)\n</td>\n<td class=\"table-success\" style=\"background: #9EFF9E; vertical-align: middle; text-align: center;\">Success\n</td>\n<td class=\"partial table-partial\" style=\"background: #BFE; vertical-align: middle; text-align: center;\">Controlled<br/><small>(ocean)</small> <sup class=\"reference\" id=\"cite_ref-ocean_landing_38-1\"><a href=\"#cite_note-ocean_landing-38\">[d]</a></sup><sup class=\"reference\" id=\"cite_ref-auto_53-0\"><a href=\"#cite_note-auto-53\">[46]</a></sup>\n</td></tr>\n<tr>\n<td colspan=\"9\">Following second-stage separation, SpaceX conducted a second <a href=\"/wiki/Falcon_9_first-stage_landing_tests\" title=\"Falcon 9 first-stage landing tests\">controlled-descent test</a> of the discarded booster vehicle and achieved the first successful controlled ocean touchdown of a liquid-rocket-engine orbital booster.<sup class=\"reference\" id=\"cite_ref-mit20140422_54-0\"><a href=\"#cite_note-mit20140422-54\">[47]</a></sup><sup class=\"reference\" id=\"cite_ref-aw20140428_55-0\"><a href=\"#cite_note-aw20140428-55\">[48]</a></sup> Following the soft touchdown, the first stage tipped over as expected and was destroyed. This was the first Falcon 9 booster to fly with extensible landing legs and the first Dragon mission with the <a href=\"/wiki/Falcon_9_v1.1\" title=\"Falcon 9 v1.1\">Falcon 9 v1.1</a> launch vehicle. This flight also launched the <a href=\"/wiki/Educational_Launch_of_Nanosatellites\" title=\"Educational Launch of Nanosatellites\">ELaNa 5</a> mission for <a href=\"/wiki/NASA\" title=\"NASA\">NASA</a> as a secondary payload.<sup class=\"reference\" id=\"cite_ref-auto2_56-0\"><a href=\"#cite_note-auto2-56\">[49]</a></sup><sup class=\"reference\" id=\"cite_ref-57\"><a href=\"#cite_note-57\">[50]</a></sup>\n</td></tr>\n<tr>\n<th rowspan=\"2\" scope=\"row\" style=\"text-align:center;\">10\n</th>\n<td>14 July 2014,<br/>15:15\n</td>\n<td><a href=\"/wiki/Falcon_9_v1.1\" title=\"Falcon 9 v1.1\">F9 v1.1</a>\n</td>\n<td><a class=\"mw-redirect\" href=\"/wiki/Cape_Canaveral_Air_Force_Station\" title=\"Cape Canaveral Air Force Station\">Cape Canaveral</a>,<br/><a href=\"/wiki/Cape_Canaveral_Space_Launch_Complex_40\" title=\"Cape Canaveral Space Launch Complex 40\">LC-40</a>\n</td>\n<td><a class=\"mw-redirect\" href=\"/wiki/Orbcomm-OG2\" title=\"Orbcomm-OG2\">Orbcomm-OG2</a>-1<br/>(6 satellites)<sup class=\"reference\" id=\"cite_ref-sxManifest20120925_28-6\"><a href=\"#cite_note-sxManifest20120925-28\">[22]</a></sup>\n</td>\n<td>1,316\u00a0kg (2,901\u00a0lb)\n</td>\n<td><a href=\"/wiki/Low_Earth_orbit\" title=\"Low Earth orbit\">LEO</a>\n</td>\n<td><a href=\"/wiki/Orbcomm\" title=\"Orbcomm\">Orbcomm</a>\n</td>\n<td class=\"table-success\" style=\"background: #9EFF9E; vertical-align: middle; text-align: center;\">Success<sup class=\"reference\" id=\"cite_ref-og2-01_20140714_58-0\"><a href=\"#cite_note-og2-01_20140714-58\">[51]</a></sup>\n</td>\n<td class=\"partial table-partial\" style=\"background: #BFE; vertical-align: middle; text-align: center;\">Controlled<br/><small>(ocean)</small><sup class=\"reference\" id=\"cite_ref-ocean_landing_38-2\"><a href=\"#cite_note-ocean_landing-38\">[d]</a></sup><sup class=\"reference\" id=\"cite_ref-auto_53-1\"><a href=\"#cite_note-auto-53\">[46]</a></sup>\n</td></tr>\n<tr>\n<td colspan=\"9\">Payload included six satellites weighing 172\u00a0kg (379\u00a0lb) each and two 142\u00a0kg (313\u00a0lb) mass simulators.<sup class=\"reference\" id=\"cite_ref-gunter-og2_30-1\"><a href=\"#cite_note-gunter-og2-30\">[24]</a></sup><sup class=\"reference\" id=\"cite_ref-gunter-og2-sim_59-0\"><a href=\"#cite_note-gunter-og2-sim-59\">[52]</a></sup> Equipped for the second time with <a class=\"mw-redirect\" href=\"/wiki/Launch_vehicle_landing_gear\" title=\"Launch vehicle landing gear\">landing legs</a>, the first-stage booster successfully conducted a <a class=\"mw-redirect\" href=\"/wiki/SpaceX_Falcon_9_booster_post-mission,_controlled-descent,_test_program\" title=\"SpaceX Falcon 9 booster post-mission, controlled-descent, test program\">controlled-descent</a> test consisting of a burn for deceleration from <a class=\"mw-redirect\" href=\"/wiki/Hypersonic\" title=\"Hypersonic\">hypersonic</a> velocity in the upper atmosphere, a <a href=\"/wiki/Atmospheric_entry\" title=\"Atmospheric entry\">reentry</a> burn, and a final landing burn before soft-landing on the ocean surface.<sup class=\"reference\" id=\"cite_ref-SpaceX22072014_60-0\"><a href=\"#cite_note-SpaceX22072014-60\">[53]</a></sup>\n</td></tr>\n<tr>\n<th rowspan=\"2\" scope=\"row\" style=\"text-align:center;\">11\n</th>\n<td>5 August 2014,<br/>08:00\n</td>\n<td><a href=\"/wiki/Falcon_9_v1.1\" title=\"Falcon 9 v1.1\">F9 v1.1</a>\n</td>\n<td><a class=\"mw-redirect\" href=\"/wiki/Cape_Canaveral_Air_Force_Station\" title=\"Cape Canaveral Air Force Station\">Cape Canaveral</a>,<br/><a href=\"/wiki/Cape_Canaveral_Space_Launch_Complex_40\" title=\"Cape Canaveral Space Launch Complex 40\">LC-40</a>\n</td>\n<td><a href=\"/wiki/AsiaSat_8\" title=\"AsiaSat 8\">AsiaSat 8</a><sup class=\"reference\" id=\"cite_ref-sxManifest20120925_28-7\"><a href=\"#cite_note-sxManifest20120925-28\">[22]</a></sup><sup class=\"reference\" id=\"cite_ref-AsiaSat_SpaceX_61-0\"><a href=\"#cite_note-AsiaSat_SpaceX-61\">[54]</a></sup><sup class=\"reference\" id=\"cite_ref-62\"><a href=\"#cite_note-62\">[55]</a></sup>\n</td>\n<td>4,535\u00a0kg (9,998\u00a0lb)\n</td>\n<td><a href=\"/wiki/Geostationary_transfer_orbit\" title=\"Geostationary transfer orbit\">GTO</a>\n</td>\n<td><a href=\"/wiki/AsiaSat\" title=\"AsiaSat\">AsiaSat</a>\n</td>\n<td class=\"table-success\" style=\"background: #9EFF9E; vertical-align: middle; text-align: center;\">Success<sup class=\"reference\" id=\"cite_ref-as8_20140805_63-0\"><a href=\"#cite_note-as8_20140805-63\">[56]</a></sup>\n</td>\n<td class=\"table-noAttempt\" style=\"background: #EEE; vertical-align: middle; white-space: nowrap; text-align: center;\">No attempt<br/><sup class=\"reference\" id=\"cite_ref-amspace-20140803_64-0\"><a href=\"#cite_note-amspace-20140803-64\">[57]</a></sup>\n</td></tr>\n<tr>\n<td colspan=\"9\">First time SpaceX managed a launch site turnaround between two flights of under a month (22 days). GTO launch of the large communication satellite from Hong Kong did not allow for propulsive return-over-water and controlled splashdown of the first stage.<sup class=\"reference\" id=\"cite_ref-amspace-20140803_64-1\"><a href=\"#cite_note-amspace-20140803-64\">[57]</a></sup>\n</td></tr>\n<tr>\n<th rowspan=\"2\" scope=\"row\" style=\"text-align:center;\">12\n</th>\n<td>7 September 2014,<br/>05:00\n</td>\n<td><a href=\"/wiki/Falcon_9_v1.1\" title=\"Falcon 9 v1.1\">F9 v1.1</a><br/>B1011<sup class=\"reference\" id=\"cite_ref-block_numbers_14-6\"><a href=\"#cite_note-block_numbers-14\">[8]</a></sup>\n</td>\n<td><a class=\"mw-redirect\" href=\"/wiki/Cape_Canaveral_Air_Force_Station\" title=\"Cape Canaveral Air Force Station\">Cape Canaveral</a>,<br/><a href=\"/wiki/Cape_Canaveral_Space_Launch_Complex_40\" title=\"Cape Canaveral Space Launch Complex 40\">LC-40</a>\n</td>\n<td><a href=\"/wiki/AsiaSat_6\" title=\"AsiaSat 6\">AsiaSat 6</a><sup class=\"reference\" id=\"cite_ref-sxManifest20120925_28-8\"><a href=\"#cite_note-sxManifest20120925-28\">[22]</a></sup><sup class=\"reference\" id=\"cite_ref-AsiaSat_SpaceX_61-1\"><a href=\"#cite_note-AsiaSat_SpaceX-61\">[54]</a></sup><sup class=\"reference\" id=\"cite_ref-65\"><a href=\"#cite_note-65\">[58]</a></sup>\n</td>\n<td>4,428\u00a0kg (9,762\u00a0lb)\n</td>\n<td><a href=\"/wiki/Geostationary_transfer_orbit\" title=\"Geostationary transfer orbit\">GTO</a>\n</td>\n<td><a href=\"/wiki/AsiaSat\" title=\"AsiaSat\">AsiaSat</a>\n</td>\n<td class=\"table-success\" style=\"background: #9EFF9E; vertical-align: middle; text-align: center;\">Success<sup class=\"reference\" id=\"cite_ref-sdc20140907_66-0\"><a href=\"#cite_note-sdc20140907-66\">[59]</a></sup>\n</td>\n<td class=\"table-noAttempt\" style=\"background: #EEE; vertical-align: middle; white-space: nowrap; text-align: center;\">No attempt\n</td></tr>\n<tr>\n<td colspan=\"9\">Launch was delayed for two weeks for additional verifications after a malfunction observed in the development of the <a class=\"mw-redirect\" href=\"/wiki/F9R_Dev1\" title=\"F9R Dev1\">F9R Dev1</a> prototype.<sup class=\"reference\" id=\"cite_ref-67\"><a href=\"#cite_note-67\">[60]</a></sup> GTO launch of the heavy payload did not allow for controlled splashdown.<sup class=\"reference\" id=\"cite_ref-68\"><a href=\"#cite_note-68\">[61]</a></sup>\n</td></tr>\n<tr>\n<th rowspan=\"2\" scope=\"row\" style=\"text-align:center;\">13\n</th>\n<td>21 September 2014,<br/>05:52<sup class=\"reference\" id=\"cite_ref-SFN_LLog_27-2\"><a href=\"#cite_note-SFN_LLog-27\">[21]</a></sup>\n</td>\n<td><a href=\"/wiki/Falcon_9_v1.1\" title=\"Falcon 9 v1.1\">F9 v1.1</a><br/>B1010<sup class=\"reference\" id=\"cite_ref-block_numbers_14-7\"><a href=\"#cite_note-block_numbers-14\">[8]</a></sup>\n</td>\n<td><a class=\"mw-redirect\" href=\"/wiki/Cape_Canaveral_Air_Force_Station\" title=\"Cape Canaveral Air Force Station\">Cape Canaveral</a>,<br/><a href=\"/wiki/Cape_Canaveral_Space_Launch_Complex_40\" title=\"Cape Canaveral Space Launch Complex 40\">LC-40</a>\n</td>\n<td><a href=\"/wiki/SpaceX_CRS-4\" title=\"SpaceX CRS-4\">SpaceX CRS-4</a><sup class=\"reference\" id=\"cite_ref-sxManifest20120925_28-9\"><a href=\"#cite_note-sxManifest20120925-28\">[22]</a></sup><br/>(Dragon <a href=\"/wiki/Dragon_C106\" title=\"Dragon C106\">C106</a>.1)\n</td>\n<td>2,216\u00a0kg (4,885\u00a0lb)<sup class=\"reference\" id=\"cite_ref-69\"><a href=\"#cite_note-69\">[62]</a></sup>\n</td>\n<td><a href=\"/wiki/Low_Earth_orbit\" title=\"Low Earth orbit\">LEO</a> (<a class=\"mw-redirect\" href=\"/wiki/ISS\" title=\"ISS\">ISS</a>)\n</td>\n<td><a href=\"/wiki/NASA\" title=\"NASA\">NASA</a> (<a href=\"/wiki/Commercial_Resupply_Services\" title=\"Commercial Resupply Services\">CRS</a>)\n</td>\n<td class=\"table-success\" style=\"background: #9EFF9E; vertical-align: middle; text-align: center;\">Success<sup class=\"reference\" id=\"cite_ref-nasacrs420140921_70-0\"><a href=\"#cite_note-nasacrs420140921-70\">[63]</a></sup>\n</td>\n<td class=\"table-no2\" style=\"background: #FFE3E3; color: black; vertical-align: middle; text-align: center;\">Uncontrolled<br/><small>(ocean)</small><sup class=\"reference\" id=\"cite_ref-ocean_landing_38-3\"><a href=\"#cite_note-ocean_landing-38\">[d]</a></sup><sup class=\"reference\" id=\"cite_ref-fail-13_71-0\"><a href=\"#cite_note-fail-13-71\">[64]</a></sup>\n</td></tr>\n<tr>\n<td colspan=\"9\">Fourth attempt of a soft ocean touchdown,<sup class=\"reference\" id=\"cite_ref-aw20141016_72-0\"><a href=\"#cite_note-aw20141016-72\">[65]</a></sup> but the booster ran out of liquid oxygen.<sup class=\"reference\" id=\"cite_ref-fail-13_71-1\"><a href=\"#cite_note-fail-13-71\">[64]</a></sup> Detailed <a class=\"mw-redirect\" href=\"/wiki/Thermal_imaging\" title=\"Thermal imaging\">thermal imaging</a> infrared sensor data was collected however by NASA, as part of a joint arrangement with SpaceX as part of research on <a class=\"mw-redirect\" href=\"/wiki/Supersonic_retropropulsion\" title=\"Supersonic retropropulsion\">retropropulsive deceleration technologies</a> for developing new approaches to Martian <a href=\"/wiki/Atmospheric_entry\" title=\"Atmospheric entry\">atmospheric entry</a>.<sup class=\"reference\" id=\"cite_ref-aw20141016_72-1\"><a href=\"#cite_note-aw20141016-72\">[65]</a></sup>\n</td></tr></tbody></table>\n"
                }
            ],
            "source": "# Let's print the third table and check its content\nfirst_launch_table = html_tables[3]\nprint(first_launch_table)"
        },
        {
            "cell_type": "markdown",
            "metadata": {},
            "source": "You should able to see the columns names embedded in the table header elements `<th>` as follows:\n"
        },
        {
            "cell_type": "markdown",
            "metadata": {},
            "source": "```\n<tr>\n<th scope=\"col\">Flight No.\n</th>\n<th scope=\"col\">Date and<br/>time (<a href=\"/wiki/Coordinated_Universal_Time\" title=\"Coordinated Universal Time\">UTC</a>)\n</th>\n<th scope=\"col\"><a href=\"/wiki/List_of_Falcon_9_first-stage_boosters\" title=\"List of Falcon 9 first-stage boosters\">Version,<br/>Booster</a> <sup class=\"reference\" id=\"cite_ref-booster_11-0\"><a href=\"#cite_note-booster-11\">[b]</a></sup>\n</th>\n<th scope=\"col\">Launch site\n</th>\n<th scope=\"col\">Payload<sup class=\"reference\" id=\"cite_ref-Dragon_12-0\"><a href=\"#cite_note-Dragon-12\">[c]</a></sup>\n</th>\n<th scope=\"col\">Payload mass\n</th>\n<th scope=\"col\">Orbit\n</th>\n<th scope=\"col\">Customer\n</th>\n<th scope=\"col\">Launch<br/>outcome\n</th>\n<th scope=\"col\"><a href=\"/wiki/Falcon_9_first-stage_landing_tests\" title=\"Falcon 9 first-stage landing tests\">Booster<br/>landing</a>\n</th></tr>\n```\n"
        },
        {
            "cell_type": "markdown",
            "metadata": {},
            "source": "Next, we just need to iterate through the `<th>` elements and apply the provided `extract_column_from_header()` to extract column name one by one\n"
        },
        {
            "cell_type": "code",
            "execution_count": 11,
            "metadata": {},
            "outputs": [],
            "source": "column_names = []\n\n# Apply find_all() function with `th` element on first_launch_table\n# Iterate each th element and apply the provided extract_column_from_header() to get a column name\n# Append the Non-empty column name (`if name is not None and len(name) > 0`) into a list called column_names\nfor row in first_launch_table.find_all('th'):\n    name = extract_column_from_header(row)\n    if (name != None and len(name) > 0):\n        column_names.append(name)\n"
        },
        {
            "cell_type": "markdown",
            "metadata": {},
            "source": "Check the extracted column names\n"
        },
        {
            "cell_type": "code",
            "execution_count": 12,
            "metadata": {},
            "outputs": [
                {
                    "name": "stdout",
                    "output_type": "stream",
                    "text": "['Flight No.', 'Date and time ( )', 'Launch site', 'Payload', 'Payload mass', 'Orbit', 'Customer', 'Launch outcome']\n"
                }
            ],
            "source": "print(column_names)"
        },
        {
            "cell_type": "markdown",
            "metadata": {},
            "source": "## TASK 3: Create a data frame by parsing the launch HTML tables\n"
        },
        {
            "cell_type": "markdown",
            "metadata": {},
            "source": "We will create an empty dictionary with keys from the extracted column names in the previous task. Later, this dictionary will be converted into a Pandas dataframe\n"
        },
        {
            "cell_type": "code",
            "execution_count": 13,
            "metadata": {},
            "outputs": [],
            "source": "launch_dict= dict.fromkeys(column_names)\n\n# Remove an irrelvant column\ndel launch_dict['Date and time ( )']\n\n# Let's initial the launch_dict with each value to be an empty list\nlaunch_dict['Flight No.'] = []\nlaunch_dict['Launch site'] = []\nlaunch_dict['Payload'] = []\nlaunch_dict['Payload mass'] = []\nlaunch_dict['Orbit'] = []\nlaunch_dict['Customer'] = []\nlaunch_dict['Launch outcome'] = []\n# Added some new columns\nlaunch_dict['Version Booster']=[]\nlaunch_dict['Booster landing']=[]\nlaunch_dict['Date']=[]\nlaunch_dict['Time']=[]"
        },
        {
            "cell_type": "markdown",
            "metadata": {},
            "source": "Next, we just need to fill up the `launch_dict` with launch records extracted from table rows.\n"
        },
        {
            "cell_type": "markdown",
            "metadata": {},
            "source": "Usually, HTML tables in Wiki pages are likely to contain unexpected annotations and other types of noises, such as reference links `B0004.1[8]`, missing values `N/A [e]`, inconsistent formatting, etc.\n"
        },
        {
            "cell_type": "markdown",
            "metadata": {},
            "source": "To simplify the parsing process, we have provided an incomplete code snippet below to help you to fill up the `launch_dict`. Please complete the following code snippet with TODOs or you can choose to write your own logic to parse all launch tables:\n"
        },
        {
            "cell_type": "code",
            "execution_count": 33,
            "metadata": {},
            "outputs": [
                {
                    "name": "stdout",
                    "output_type": "stream",
                    "text": "flight_number: 1\ndate: 4 June 2010\ntime: 18:45\nbv: F9 v1.0B0003.1\nlaunch_site: CCAFS\npayload: Dragon Spacecraft Qualification Unit\npayload_mass: 0\norbit: LEO\ncustomer: SpaceX\nlaunch_outcome: Success\n\nbooster_landing: Failure\nflight_number: 2\ndate: 8 December 2010\ntime: 15:43\nbv: F9 v1.0B0004.1\nlaunch_site: CCAFS\npayload: Dragon\npayload_mass: 0\norbit: LEO\ncustomer: NASA (COTS)\nNRO\nlaunch_outcome: Success\nbooster_landing: Failure\nflight_number: 3\ndate: 22 May 2012\ntime: 07:44\nbv: F9 v1.0B0005.1\nlaunch_site: CCAFS\npayload: Dragon\npayload_mass: 525 kg\norbit: LEO\ncustomer: NASA (COTS)\nlaunch_outcome: Success\nbooster_landing: No attempt\n\nflight_number: 4\ndate: 8 October 2012\ntime: 00:35\nbv: F9 v1.0B0006.1\nlaunch_site: CCAFS\npayload: SpaceX CRS-1\npayload_mass: 4,700 kg\norbit: LEO\ncustomer: NASA (CRS)\nlaunch_outcome: Success\n\nbooster_landing: No attempt\nflight_number: 5\ndate: 1 March 2013\ntime: 15:10\nbv: F9 v1.0B0007.1\nlaunch_site: CCAFS\npayload: SpaceX CRS-2\npayload_mass: 4,877 kg\norbit: LEO\ncustomer: NASA (CRS)\nlaunch_outcome: Success\n\nbooster_landing: No attempt\n\nflight_number: 6\ndate: 29 September 2013\ntime: 16:00\nbv: F9 v1.1B1003\nlaunch_site: VAFB\npayload: CASSIOPE\npayload_mass: 500 kg\norbit: Polar orbit\ncustomer: MDA\nlaunch_outcome: Success\nbooster_landing: Uncontrolled\nflight_number: 7\ndate: 3 December 2013\ntime: 22:41\nbv: F9 v1.1\nlaunch_site: CCAFS\npayload: SES-8\npayload_mass: 3,170 kg\norbit: GTO\ncustomer: SES\nlaunch_outcome: Success\nbooster_landing: No attempt\nflight_number: 8\ndate: 6 January 2014\ntime: 22:06\nbv: F9 v1.1\nlaunch_site: CCAFS\npayload: Thaicom 6\npayload_mass: 3,325 kg\norbit: GTO\ncustomer: Thaicom\nlaunch_outcome: Success\nbooster_landing: No attempt\nflight_number: 9\ndate: 18 April 2014\ntime: 19:25\nbv: F9 v1.1\nlaunch_site: Cape Canaveral\npayload: SpaceX CRS-3\npayload_mass: 2,296 kg\norbit: LEO\ncustomer: NASA (CRS)\nlaunch_outcome: Success\n\nbooster_landing: Controlled\nflight_number: 10\ndate: 14 July 2014\ntime: 15:15\nbv: F9 v1.1\nlaunch_site: Cape Canaveral\npayload: Orbcomm-OG2\npayload_mass: 1,316 kg\norbit: LEO\ncustomer: Orbcomm\nlaunch_outcome: Success\nbooster_landing: Controlled\nflight_number: 11\ndate: 5 August 2014\ntime: 08:00\nbv: F9 v1.1\nlaunch_site: Cape Canaveral\npayload: AsiaSat 8\npayload_mass: 4,535 kg\norbit: GTO\ncustomer: AsiaSat\nlaunch_outcome: Success\nbooster_landing: No attempt\nflight_number: 12\ndate: 7 September 2014\ntime: 05:00\nbv: F9 v1.1\nlaunch_site: Cape Canaveral\npayload: AsiaSat 6\npayload_mass: 4,428 kg\norbit: GTO\ncustomer: AsiaSat\nlaunch_outcome: Success\nbooster_landing: No attempt\n\nflight_number: 13\ndate: 21 September 2014\ntime: 05:52\nbv: F9 v1.1\nlaunch_site: Cape Canaveral\npayload: SpaceX CRS-4\npayload_mass: 2,216 kg\norbit: LEO\ncustomer: NASA (CRS)\nlaunch_outcome: Success\nbooster_landing: Uncontrolled\nflight_number: 14\ndate: 10 January 2015\ntime: 09:47\nbv: F9 v1.1\nlaunch_site: Cape Canaveral\npayload: SpaceX CRS-5\npayload_mass: 2,395 kg\norbit: LEO\ncustomer: NASA (CRS)\nlaunch_outcome: Success\nbooster_landing: Failure \nflight_number: 15\ndate: 11 February 2015\ntime: 23:03\nbv: F9 v1.1\nlaunch_site: Cape Canaveral\npayload: DSCOVR\npayload_mass: 570 kg\norbit: HEO\ncustomer: USAF\nNASA\nNOAA\nlaunch_outcome: Success\n\nbooster_landing: Controlled\nflight_number: 16\ndate: 2 March 2015\ntime: 03:50\nbv: F9 v1.1\nlaunch_site: Cape Canaveral\npayload: ABS-3A\npayload_mass: 4,159 kg\norbit: GTO\ncustomer: ABS\nEutelsat\nlaunch_outcome: Success\n\nbooster_landing: No attempt\nflight_number: 17\ndate: 14 April 2015\ntime: 20:10\nbv: F9 v1.1\nlaunch_site: Cape Canaveral\npayload: SpaceX CRS-6\npayload_mass: 1,898 kg\norbit: LEO\ncustomer: NASA (CRS)\nlaunch_outcome: Success\n\nbooster_landing: Failure\nflight_number: 18\ndate: 27 April 2015\ntime: 23:03\nbv: F9 v1.1\nlaunch_site: Cape Canaveral\npayload: T\u00fcrkmen\u00c4lem 52\u00b0E / MonacoSAT\npayload_mass: 4,707 kg\norbit: GTO\ncustomer: Turkmenistan NationalSpace Agency[88]\nlaunch_outcome: Success\n\nbooster_landing: No attempt\nflight_number: 19\ndate: 28 June 2015\ntime: 14:21\nbv: F9 v1.1\nlaunch_site: Cape Canaveral\npayload: SpaceX CRS-7\npayload_mass: 1,952 kg\norbit: LEO\ncustomer: NASA (CRS)\nlaunch_outcome: Failure\nbooster_landing: Precluded\nflight_number: 20\ndate: 22 December 2015\ntime: 01:29\nbv: F9 FT\nlaunch_site: Cape Canaveral\npayload: Orbcomm-OG2\npayload_mass: 2,034 kg\norbit: LEO\ncustomer: Orbcomm\nlaunch_outcome: Success\n\nbooster_landing: Success\nflight_number: 21\ndate: 17 January 2016\ntime: 18:42\nbv: F9 v1.1\nlaunch_site: VAFB\npayload: Jason-3\npayload_mass: 553 kg\norbit: LEO\ncustomer: NASA (LSP)\nNOAA\nCNES\nlaunch_outcome: Success\n\nbooster_landing: Failure\nflight_number: 22\ndate: 4 March 2016\ntime: 23:35\nbv: F9 FT\nlaunch_site: Cape Canaveral\npayload: SES-9\npayload_mass: 5,271 kg\norbit: GTO\ncustomer: SES\nlaunch_outcome: Success\n\nbooster_landing: Failure\nflight_number: 23\ndate: 8 April 2016\ntime: 20:43\nbv: F9 FT\nlaunch_site: Cape Canaveral\npayload: SpaceX CRS-8\npayload_mass: 3,136 kg\norbit: LEO\ncustomer: NASA (CRS)\nlaunch_outcome: Success\nbooster_landing: Success\nflight_number: 24\ndate: 6 May 2016\ntime: 05:21\nbv: F9 FT\nlaunch_site: Cape Canaveral\npayload: JCSAT-14\npayload_mass: 4,696 kg\norbit: GTO\ncustomer: SKY Perfect JSAT Group\nlaunch_outcome: Success\n\nbooster_landing: Success\nflight_number: 25\ndate: 27 May 2016\ntime: 21:39\nbv: F9 FT\nlaunch_site: Cape Canaveral\npayload: Thaicom 8\npayload_mass: 3,100 kg\norbit: GTO\ncustomer: Thaicom\nlaunch_outcome: Success\n\nbooster_landing: Success\nflight_number: 26\ndate: 15 June 2016\ntime: 14:29\nbv: F9 FT\nlaunch_site: Cape Canaveral\npayload: ABS-2A\npayload_mass: 3,600 kg\norbit: GTO\ncustomer: ABS\nEutelsat\nlaunch_outcome: Success\n\nbooster_landing: Failure\nflight_number: 27\ndate: 18 July 2016\ntime: 04:45\nbv: F9 FT\nlaunch_site: Cape Canaveral\npayload: SpaceX CRS-9\npayload_mass: 2,257 kg\norbit: LEO\ncustomer: NASA (CRS)\nlaunch_outcome: Success\n\nbooster_landing: Success\nflight_number: 28\ndate: 14 August 2016\ntime: 05:26\nbv: F9 FT\nlaunch_site: Cape Canaveral\npayload: JCSAT-16\npayload_mass: 4,600 kg\norbit: GTO\ncustomer: SKY Perfect JSAT Group\nlaunch_outcome: Success\n\nbooster_landing: Success\nflight_number: 29\ndate: 14 January 2017\ntime: 17:54\nbv: F9 FT\nlaunch_site: VAFB\npayload: Iridium NEXT\npayload_mass: 9,600 kg\norbit: Polar\ncustomer: Iridium Communications\nlaunch_outcome: Success\n\nbooster_landing: Success\nflight_number: 30\ndate: 19 February 2017\ntime: 14:39\nbv: F9 FT\nlaunch_site: KSC\npayload: SpaceX CRS-10\npayload_mass: 2,490 kg\norbit: LEO\ncustomer: NASA (CRS)\nlaunch_outcome: Success\n\nbooster_landing: Success\nflight_number: 31\ndate: 16 March 2017\ntime: 06:00\nbv: F9 FT\nlaunch_site: KSC\npayload: EchoStar 23\npayload_mass: 5,600 kg\norbit: GTO\ncustomer: EchoStar\nlaunch_outcome: Success\n\nbooster_landing: No attempt\nflight_number: 32\ndate: 30 March 2017\ntime: 22:27\nbv: F9 FT\u267a\nlaunch_site: KSC\npayload: SES-10\npayload_mass: 5,300 kg\norbit: GTO\ncustomer: SES\nlaunch_outcome: Success\nbooster_landing: Success\nflight_number: 33\ndate: 1 May 2017\ntime: 11:15\nbv: F9 FT\nlaunch_site: KSC\npayload: NROL-76\npayload_mass: C\norbit: LEO\ncustomer: NRO\nlaunch_outcome: Success\n\nbooster_landing: Success\nflight_number: 34\ndate: 15 May 2017\ntime: 23:21\nbv: F9 FT\nlaunch_site: KSC\npayload: Inmarsat-5 F4\npayload_mass: 6,070 kg\norbit: GTO\ncustomer: Inmarsat\nlaunch_outcome: Success\n\nbooster_landing: No attempt\nflight_number: 35\ndate: 3 June 2017\ntime: 21:07\nbv: F9 FT\nlaunch_site: KSC\npayload: SpaceX CRS-11\npayload_mass: 2,708 kg\norbit: LEO\ncustomer: NASA (CRS)\nlaunch_outcome: Success\n\nbooster_landing: Success\nflight_number: 36\ndate: 23 June 2017\ntime: 19:10\nbv: F9 FTB1029.2\nlaunch_site: KSC\npayload: BulgariaSat-1\npayload_mass: 3,669 kg\norbit: GTO\ncustomer: Bulsatcom\nlaunch_outcome: Success\n\nbooster_landing: Success\nflight_number: 37\ndate: 25 June 2017\ntime: 20:25\nbv: F9 FT\nlaunch_site: VAFB\npayload: Iridium NEXT\npayload_mass: 9,600 kg\norbit: LEO\ncustomer: Iridium Communications\nlaunch_outcome: Success\n\nbooster_landing: Success\nflight_number: 38\ndate: 5 July 2017\ntime: 23:38\nbv: F9 FT\nlaunch_site: KSC\npayload: Intelsat 35e\npayload_mass: 6,761 kg\norbit: GTO\ncustomer: Intelsat\nlaunch_outcome: Success\n\nbooster_landing: No attempt\nflight_number: 39\ndate: 14 August 2017\ntime: 16:31\nbv: F9 B4\nlaunch_site: KSC\npayload: SpaceX CRS-12\npayload_mass: 3,310 kg\norbit: LEO\ncustomer: NASA (CRS)\nlaunch_outcome: Success\n\nbooster_landing: Success\nflight_number: 40\ndate: 24 August 2017\ntime: 18:51\nbv: F9 FT\nlaunch_site: VAFB\npayload: Formosat-5\npayload_mass: 475 kg\norbit: SSO\ncustomer: NSPO\nlaunch_outcome: Success\n\nbooster_landing: Success\nflight_number: 41\ndate: 7 September 2017\ntime: 14:00\nbv: F9 B4\nlaunch_site: KSC\npayload: Boeing X-37B\npayload_mass: 4,990 kg\norbit: LEO\ncustomer: USAF\nlaunch_outcome: Success\n\nbooster_landing: Success\nflight_number: 42\ndate: 9 October 2017\ntime: 12:37\nbv: F9 B4\nlaunch_site: VAFB\npayload: Iridium NEXT\npayload_mass: 9,600 kg\norbit: Polar\ncustomer: Iridium Communications\nlaunch_outcome: Success\n\nbooster_landing: Success\nflight_number: 43\ndate: 11 October 2017\ntime: 22:53:00\nbv: F9 FTB1031.2\nlaunch_site: KSC\npayload: SES-11\npayload_mass: 5,200 kg\norbit: GTO\ncustomer: SES S.A.\nEchoStar\nlaunch_outcome: Success\n\nbooster_landing: Success\nflight_number: 44\ndate: 30 October 2017\ntime: 19:34\nbv: F9 B4\nlaunch_site: KSC\npayload: Koreasat 5A\npayload_mass: 3,500 kg\norbit: GTO\ncustomer: KT Corporation\nlaunch_outcome: Success\n\nbooster_landing: Success\nflight_number: 45\ndate: 15 December 2017\ntime: 15:36\nbv: F9 FTB1035.2\nlaunch_site: Cape Canaveral\npayload: SpaceX CRS-13\npayload_mass: 2,205 kg\norbit: LEO\ncustomer: NASA (CRS)\nlaunch_outcome: Success\n\nbooster_landing: Success\nflight_number: 46\ndate: 23 December 2017\ntime: 01:27\nbv: F9 FTB1036.2\nlaunch_site: VAFB\npayload: Iridium NEXT\npayload_mass: 9,600 kg\norbit: Polar\ncustomer: Iridium Communications\nlaunch_outcome: Success\nbooster_landing: Controlled\nflight_number: 47\ndate: 8 January 2018\ntime: 01:00\nbv: F9 B4\nlaunch_site: CCAFS\npayload: Zuma\npayload_mass: C\norbit: LEO\ncustomer: Northrop Grumman [f][238]\nlaunch_outcome: Success\nbooster_landing: Success\nflight_number: 48\ndate: 31 January 2018\ntime: 21:25\nbv: F9 FTB1032.2\nlaunch_site: CCAFS\npayload: GovSat-1\npayload_mass: 4,230 kg\norbit: GTO\ncustomer: SES\nlaunch_outcome: Success\nbooster_landing: Controlled\nflight_number: 49\ndate: 22 February 2018\ntime: 14:17\nbv: F9 FTB1038.2\nlaunch_site: VAFB\npayload: Paz\npayload_mass: 2,150 kg\norbit: SSO\ncustomer: Hisdesat\nexactEarth\nSpaceX\nlaunch_outcome: Success\nbooster_landing: No attempt\nflight_number: 50\ndate: 6 March 2018\ntime: 05:33\nbv: F9 B4\nlaunch_site: CCAFS\npayload: Hispasat 30W-6\npayload_mass: 6,092 kg\norbit: GTO\ncustomer: Hispasat[277]\nNovaWurks\nlaunch_outcome: Success\nbooster_landing: No attempt\nflight_number: 51\ndate: 30 March 2018\ntime: 14:14\nbv: F9 B4B1041.2\nlaunch_site: VAFB\npayload: Iridium NEXT\npayload_mass: 9,600 kg\norbit: Polar\ncustomer: Iridium Communications\nlaunch_outcome: Success\nbooster_landing: No attempt\nflight_number: 52\ndate: 2 April 2018\ntime: 20:30\nbv: F9 B4B1039.2\nlaunch_site: CCAFS\npayload: SpaceX CRS-14\npayload_mass: 2,647 kg\norbit: LEO\ncustomer: NASA (CRS)\nlaunch_outcome: Success\nbooster_landing: No attempt\nflight_number: 53\ndate: 18 April 2018\ntime: 22:51\nbv: F9 B4\nlaunch_site: CCAFS\npayload: Transiting Exoplanet Survey Satellite\npayload_mass: 362 kg\norbit: HEO\ncustomer: NASA (LSP)\nlaunch_outcome: Success\nbooster_landing: Success\nflight_number: 54\ndate: 11 May 2018\ntime: 20:14\nbv: F9 B5B1046.1\nlaunch_site: KSC\npayload: Bangabandhu-1\npayload_mass: 3,600 kg\norbit: GTO\ncustomer: Thales-Alenia / BTRC\nlaunch_outcome: Success\nbooster_landing: Success\nflight_number: 55\ndate: 22 May 2018\ntime: 19:47\nbv: F9 B4B1043.2\nlaunch_site: VAFB\npayload: Iridium NEXT\npayload_mass: 6,460 kg\norbit: Polar\ncustomer: Iridium Communications\nGFZ\u00a0\u2022 NASA\nlaunch_outcome: Success\nbooster_landing: No attempt\nflight_number: 56\ndate: 4 June 2018\ntime: 04:45\nbv: F9 B4B1040.2\nlaunch_site: CCAFS\npayload: SES-12\npayload_mass: 5,384 kg\norbit: GTO\ncustomer: SES\nlaunch_outcome: Success\nbooster_landing: No attempt\nflight_number: 57\ndate: 29 June 2018\ntime: 09:42\nbv: F9 B4B1045.2\nlaunch_site: CCAFS\npayload: SpaceX CRS-15\npayload_mass: 2,697 kg\norbit: LEO\ncustomer: NASA (CRS)\nlaunch_outcome: Success\nbooster_landing: No attempt\nflight_number: 58\ndate: 22 July 2018\ntime: 05:50\nbv: F9 B5\nlaunch_site: CCAFS\npayload: Telstar 19V\npayload_mass: 7,075 kg\norbit: GTO\ncustomer: Telesat\nlaunch_outcome: Success\nbooster_landing: Success\nflight_number: 59\ndate: 25 July 2018\ntime: 11:39\nbv: F9 B5B1048\nlaunch_site: VAFB\npayload: Iridium NEXT\npayload_mass: 9,600 kg\norbit: Polar\ncustomer: Iridium Communications\nlaunch_outcome: Success\nbooster_landing: Success\nflight_number: 60\ndate: 7 August 2018\ntime: 05:18\nbv: F9 B5B1046.2\nlaunch_site: CCAFS\npayload: Merah Putih\npayload_mass: 5,800 kg\norbit: GTO\ncustomer: Telkom Indonesia\nlaunch_outcome: Success\nbooster_landing: Success\nflight_number: 61\ndate: 10 September 2018\ntime: 04:45\nbv: F9 B5\nlaunch_site: CCAFS\npayload: Telstar 18V\npayload_mass: 7,060 kg\norbit: GTO\ncustomer: Telesat\nlaunch_outcome: Success\nbooster_landing: Success\nflight_number: 62\ndate: 8 October 2018\ntime: 02:22\nbv: F9 B5B1048.2\nlaunch_site: VAFB\npayload: SAOCOM 1A\npayload_mass: 3,000 kg\norbit: SSO\ncustomer: CONAE\nlaunch_outcome: Success\nbooster_landing: Success\nflight_number: 63\ndate: 15 November 2018\ntime: 20:46\nbv: F9 B5B1047.2\nlaunch_site: KSC\npayload: Es'hail 2\npayload_mass: 5,300 kg\norbit: GTO\ncustomer: Es'hailSat\nlaunch_outcome: Success\nbooster_landing: Success\nflight_number: 64\ndate: 3 December 2018\ntime: 18:34:05\nbv: F9 B5B1046.3\nlaunch_site: VAFB\npayload: SSO-A\npayload_mass: ~4,000 kg\norbit: SSO\ncustomer: Spaceflight Industries\nlaunch_outcome: Success\nbooster_landing: Success\nflight_number: 65\ndate: 5 December 2018\ntime: 18:16\nbv: F9 B5\nlaunch_site: CCAFS\npayload: SpaceX CRS-16\npayload_mass: 2,500 kg\norbit: LEO\ncustomer: NASA (CRS)\nlaunch_outcome: Success\n\nbooster_landing: Failure\nflight_number: 66\ndate: 23 December 2018\ntime: 13:51\nbv: F9 B5\nlaunch_site: CCAFS\npayload: GPS III\npayload_mass: 4,400 kg\norbit: MEO\ncustomer: USAF\nlaunch_outcome: Success\nbooster_landing: No attempt\nflight_number: 67\ndate: 11 January 2019\ntime: 15:31\nbv: F9 B5B1049.2\nlaunch_site: VAFB\npayload: Iridium NEXT\npayload_mass: 9,600 kg\norbit: Polar\ncustomer: Iridium Communications\nlaunch_outcome: Success\n\nbooster_landing: Success\nflight_number: 68\ndate: 22 February 2019\ntime: 01:45\nbv: F9 B5B1048.3\nlaunch_site: CCAFS\npayload: Nusantara Satu\npayload_mass: 4,850 kg\norbit: GTO\ncustomer: PSN\nSpaceIL / IAI\nAir Force Research\nlaunch_outcome: Success\n\nbooster_landing: Success\nflight_number: 69\ndate: 2 March 2019\ntime: 07:49\nbv: F9 B5[268]\nlaunch_site: KSC\npayload: Crew Dragon Demo-1\npayload_mass: 12,055 kg\norbit: LEO\ncustomer: NASA (CCD)\nlaunch_outcome: Success\n\nbooster_landing: Success\nflight_number: 70\ndate: 4 May 2019\ntime: 06:48\nbv: F9 B5\nlaunch_site: CCAFS\npayload: SpaceX CRS-17\npayload_mass: 2,495 kg\norbit: LEO\ncustomer: NASA (CRS)\nlaunch_outcome: Success\n\nbooster_landing: Success\nflight_number: 71\ndate: 24 May 2019\ntime: 02:30\nbv: F9 B5B1049.3\nlaunch_site: CCAFS\npayload: Starlink\npayload_mass: 13,620 kg\norbit: LEO\ncustomer: SpaceX\nlaunch_outcome: Success\n\nbooster_landing: Success\nflight_number: 72\ndate: 12 June 2019\ntime: 14:17\nbv: F9 B5B1051.2\nlaunch_site: VAFB\npayload: RADARSAT Constellation\npayload_mass: 4,200 kg\norbit: SSO\ncustomer: Canadian Space Agency (CSA)\nlaunch_outcome: Success\n\nbooster_landing: Success\nflight_number: 73\ndate: 25 July 2019\ntime: 22:01\nbv: F9 B5B1056.2\nlaunch_site: CCAFS\npayload: SpaceX CRS-18\npayload_mass: 2,268 kg\norbit: LEO\ncustomer: NASA (CRS)\nlaunch_outcome: Success\n\nbooster_landing: Success\nflight_number: 74\ndate: 6 August 2019\ntime: 23:23\nbv: F9 B5B1047.3\nlaunch_site: CCAFS\npayload: AMOS-17\npayload_mass: 6,500 kg\norbit: GTO\ncustomer: Spacecom\nlaunch_outcome: Success\n\nbooster_landing: No attempt\nflight_number: 75\ndate: 11 November 2019\ntime: 14:56\nbv: F9 B5\nlaunch_site: CCAFS\npayload: Starlink\npayload_mass: 15,600 kg\norbit: LEO\ncustomer: SpaceX\nlaunch_outcome: Success\n\nbooster_landing: Success\nflight_number: 76\ndate: 5 December 2019\ntime: 17:29\nbv: F9 B5\nlaunch_site: CCAFS\npayload: SpaceX CRS-19\npayload_mass: 2,617 kg\norbit: LEO\ncustomer: NASA (CRS)\nlaunch_outcome: Success\n\nbooster_landing: Success\nflight_number: 77\ndate: 17 December 2019\ntime: 00:10\nbv: F9 B5B1056.3\nlaunch_site: CCAFS\npayload: JCSat-18\npayload_mass: 6,956 kg\norbit: GTO\ncustomer: Sky Perfect JSATKacific 1\nlaunch_outcome: Success\n\nbooster_landing: Success\nflight_number: 78\ndate: 7 January 2020\ntime: 02:19:21\nbv: F9 B5\nlaunch_site: CCAFS\npayload: Starlink\npayload_mass: 15,600 kg\norbit: LEO\ncustomer: SpaceX\nlaunch_outcome: Success\n\nbooster_landing: Success\nflight_number: 79\ndate: 19 January 2020\ntime: 15:30\nbv: F9 B5\nlaunch_site: KSC\npayload: Crew Dragon in-flight abort test\npayload_mass: 12,050 kg\norbit: Sub-orbital\ncustomer: NASA (CTS)[497]\nlaunch_outcome: Success\n\nbooster_landing: No attempt\n\nflight_number: 80\ndate: 29 January 2020\ntime: 14:07\nbv: F9 B5\nlaunch_site: CCAFS\npayload: Starlink\npayload_mass: 15,600 kg\norbit: LEO\ncustomer: SpaceX\nlaunch_outcome: Success\n\nbooster_landing: Success\nflight_number: 81\ndate: 17 February 2020\ntime: 15:05\nbv: F9 B5\nlaunch_site: CCAFS\npayload: Starlink\npayload_mass: 15,600 kg\norbit: LEO\ncustomer: SpaceX\nlaunch_outcome: Success\n\nbooster_landing: Failure\nflight_number: 82\ndate: 7 March 2020\ntime: 04:50\nbv: F9 B5\nlaunch_site: CCAFS\npayload: SpaceX CRS-20\npayload_mass: 1,977 kg\norbit: LEO\ncustomer: NASA (CRS)\nlaunch_outcome: Success\n\nbooster_landing: Success\nflight_number: 83\ndate: 18 March 2020\ntime: 12:16\nbv: F9 B5\nlaunch_site: KSC\npayload: Starlink\npayload_mass: 15,600 kg\norbit: LEO\ncustomer: SpaceX\nlaunch_outcome: Success\n\nbooster_landing: Failure\nflight_number: 84\ndate: 22 April 2020\ntime: 19:30\nbv: F9 B5\nlaunch_site: KSC\npayload: Starlink\npayload_mass: 15,600 kg\norbit: LEO\ncustomer: SpaceX\nlaunch_outcome: Success\n\nbooster_landing: Success\nflight_number: 85\ndate: 30 May 2020\ntime: 19:22\nbv: F9 B5\nlaunch_site: KSC\npayload: Crew Dragon Demo-2\npayload_mass: 12,530 kg\norbit: LEO\ncustomer: NASA (CCDev)\nlaunch_outcome: Success\n\nbooster_landing: Success\nflight_number: 86\ndate: 4 June 2020\ntime: 01:25\nbv: F9 B5\nlaunch_site: CCAFS\npayload: Starlink\npayload_mass: 15,600 kg\norbit: LEO\ncustomer: SpaceX\nlaunch_outcome: Success\n\nbooster_landing: Success\nflight_number: 87\ndate: 13 June 2020\ntime: 09:21\nbv: F9 B5\nlaunch_site: CCAFS\npayload: Starlink\npayload_mass: 15,410 kg\norbit: LEO\ncustomer: SpaceXPlanet Labs\nlaunch_outcome: Success\n\nbooster_landing: Success\nflight_number: 88\ndate: 30 June 2020\ntime: 20:10:46\nbv: F9 B5\nlaunch_site: CCAFS\npayload: GPS III\npayload_mass: 4,311 kg\norbit: MEO\ncustomer: U.S. Space Force[530]\nlaunch_outcome: Success\n\nbooster_landing: Success\nflight_number: 89\ndate: 20 July 2020\ntime: 21:30\nbv: F9 B5B1058.2\nlaunch_site: CCAFS\npayload: ANASIS-II\npayload_mass: 5,000\u20136,000 kg\norbit: GTO\ncustomer: Republic of Korea Army\nlaunch_outcome: Success\n\nbooster_landing: Success\nflight_number: 90\ndate: 7 August 2020\ntime: 05:12\nbv: F9 B5\nlaunch_site: KSC\npayload: Starlink\npayload_mass: 14,932 kg\norbit: LEO\ncustomer: SpaceXSpaceflight Industries (BlackSky)\nlaunch_outcome: Success\n\nbooster_landing: Success\nflight_number: 91\ndate: 18 August 2020\ntime: 14:31\nbv: F9 B5B1049.6\nlaunch_site: CCAFS\npayload: Starlink\npayload_mass: ~15,440 kg\norbit: LEO\ncustomer: SpaceXPlanet Labs\nlaunch_outcome: Success\n\nbooster_landing: Success\nflight_number: 92\ndate: 30 August 2020\ntime: 23:18\nbv: F9 B5\nlaunch_site: CCAFS\npayload: SAOCOM 1B\npayload_mass: 3,130 kg\norbit: SSO\ncustomer: CONAEPlanetIQTyvak\nlaunch_outcome: Success\n\nbooster_landing: Success\nflight_number: 93\ndate: 3 September 2020\ntime: 12:46:14\nbv: F9 B5B1060.2\nlaunch_site: KSC\npayload: Starlink\npayload_mass: 15,600 kg\norbit: LEO\ncustomer: SpaceX\nlaunch_outcome: Success\n\nbooster_landing: Success\nflight_number: 94\ndate: 6 October 2020\ntime: 11:29:34\nbv: F9 B5B1058.3\nlaunch_site: KSC\npayload: Starlink\npayload_mass: 15,600 kg\norbit: LEO\ncustomer: SpaceX\nlaunch_outcome: Success\n\nbooster_landing: Success\nflight_number: 95\ndate: 18 October 2020\ntime: 12:25:57\nbv: F9 B5B1051.6\nlaunch_site: KSC\npayload: Starlink\npayload_mass: 15,600 kg\norbit: LEO\ncustomer: SpaceX\nlaunch_outcome: Success\n\nbooster_landing: Success\nflight_number: 96\ndate: 24 October 2020\ntime: 15:31:34\nbv: F9 B5\nlaunch_site: CCAFS\npayload: Starlink\npayload_mass: 15,600 kg\norbit: LEO\ncustomer: SpaceX\nlaunch_outcome: Success\n\nbooster_landing: Success\nflight_number: 97\ndate: 5 November 2020\ntime: 23:24:23\nbv: F9 B5\nlaunch_site: CCAFS\npayload: GPS III\npayload_mass: 4,311 kg\norbit: MEO\ncustomer: USSF\nlaunch_outcome: Success\n\nbooster_landing: Success\nflight_number: 98\ndate: 16 November 2020\ntime: 00:27\nbv: F9 B5\nlaunch_site: KSC\npayload: Crew-1\npayload_mass: ~12,500 kg\norbit: LEO\ncustomer: NASA (CCP)[497]\nlaunch_outcome: Success\n\nbooster_landing: Success\nflight_number: 99\ndate: 21 November 2020\ntime: 17:17:08\nbv: F9 B5\nlaunch_site: VAFB\npayload: Sentinel-6 Michael Freilich (Jason-CS A)\npayload_mass: 1,192 kg\norbit: LEO\ncustomer: NASA / NOAA / ESA / EUMETSAT\nlaunch_outcome: Success\n\nbooster_landing: Success\nflight_number: 100\ndate: 25 November 2020\ntime: 02:13\nbv: F9 B5 \u267a\nlaunch_site: CCAFS\npayload: Starlink\npayload_mass: 15,600 kg\norbit: LEO\ncustomer: SpaceX\nlaunch_outcome: Success\n\nbooster_landing: Success\nflight_number: 101\ndate: 6 December 2020\ntime: 16:17:08\nbv: F9 B5 \u267a\nlaunch_site: KSC\npayload: SpaceX CRS-21\npayload_mass: 2,972 kg\norbit: LEO\ncustomer: NASA (CRS)\nlaunch_outcome: Success\n\nbooster_landing: Success\nflight_number: 102\ndate: 13 December 2020\ntime: 17:30:00\nbv: F9 B5 \u267a\nlaunch_site: CCSFS\npayload: SXM-7\npayload_mass: 7,000 kg\norbit: GTO\ncustomer: Sirius XM\nlaunch_outcome: Success\n\nbooster_landing: Success\nflight_number: 103\ndate: 19 December 2020\ntime: 14:00:00\nbv: F9 B5 \u267a\nlaunch_site: KSC\npayload: NROL-108\npayload_mass: C\norbit: LEO\ncustomer: NRO\nlaunch_outcome: Success\n\nbooster_landing: Success\nflight_number: 104\ndate: 8 January 2021\ntime: 02:15\nbv: F9 B5\nlaunch_site: CCSFS\npayload: T\u00fcrksat 5A\npayload_mass: 3,500 kg\norbit: GTO\ncustomer: T\u00fcrksat\nlaunch_outcome: Success\n\nbooster_landing: Success\nflight_number: 105\ndate: 20 January 2021\ntime: 13:02\nbv: F9 B5B1051.8\nlaunch_site: KSC\npayload: Starlink\npayload_mass: 15,600 kg\norbit: LEO\ncustomer: SpaceX\nlaunch_outcome: Success\n\nbooster_landing: Success\nflight_number: 106\ndate: 24 January 2021\ntime: 15:00\nbv: F9 B5B1058.5\nlaunch_site: CCSFS\npayload: Transporter-1\npayload_mass: ~5,000 kg\norbit: SSO\ncustomer: Various\nlaunch_outcome: Success\n\nbooster_landing: Success\nflight_number: 107\ndate: 4 February 2021\ntime: 06:19\nbv: F9 B5 \u267a\nlaunch_site: CCSFS\npayload: Starlink\npayload_mass: 15,600 kg\norbit: LEO\ncustomer: SpaceX\nlaunch_outcome: Success\n\nbooster_landing: Success\nflight_number: 108\ndate: 16 February 2021\ntime: 03:59:37\nbv: F9 B5 \u267a\nlaunch_site: CCSFS\npayload: Starlink\npayload_mass: 15,600 kg\norbit: LEO\ncustomer: SpaceX\nlaunch_outcome: Success\n\nbooster_landing: Failure\nflight_number: 109\ndate: 4 March 2021\ntime: 08:24\nbv: F9 B5 \u267a\nlaunch_site: KSC\npayload: Starlink\npayload_mass: 15,600 kg\norbit: LEO\ncustomer: SpaceX\nlaunch_outcome: Success\n\nbooster_landing: Success\nflight_number: 110\ndate: 11 March 2021\ntime: 08:13:29\nbv: F9 B5 \u267a\nlaunch_site: CCSFS\npayload: Starlink\npayload_mass: 15,600 kg\norbit: LEO\ncustomer: SpaceX\nlaunch_outcome: Success\n\nbooster_landing: Success\nflight_number: 111\ndate: 14 March 2021\ntime: 10:01\nbv: F9 B5 \u267a\nlaunch_site: KSC\npayload: Starlink\npayload_mass: 15,600 kg\norbit: LEO\ncustomer: SpaceX\nlaunch_outcome: Success\n\nbooster_landing: Success\nflight_number: 112\ndate: 24 March 2021\ntime: 08:28\nbv: F9 B5B1060.6\nlaunch_site: CCSFS\npayload: Starlink\npayload_mass: 15,600 kg\norbit: LEO\ncustomer: SpaceX\nlaunch_outcome: Success\n\nbooster_landing: Success\nflight_number: 113\ndate: 7 April 2021\ntime: 16:34\nbv: F9 B5 \u267a\nlaunch_site: CCSFS\npayload: Starlink\npayload_mass: 15,600 kg\norbit: LEO\ncustomer: SpaceX\nlaunch_outcome: Success\n\nbooster_landing: Success\nflight_number: 114\ndate: 23 April 2021\ntime: 9:49\nbv: F9 B5B1061.2\nlaunch_site: KSC\npayload: Crew-2\npayload_mass: ~13,000 kg\norbit: LEO\ncustomer: NASA (CTS)[497]\nlaunch_outcome: Success\n\nbooster_landing: Success\nflight_number: 115\ndate: 29 April 2021\ntime: 03:44\nbv: F9 B5B1060.7\nlaunch_site: CCSFS\npayload: Starlink\npayload_mass: 15,600 kg\norbit: LEO\ncustomer: SpaceX\nlaunch_outcome: Success\n\nbooster_landing: Success\nflight_number: 116\ndate: 4 May 2021\ntime: 19:01\nbv: F9 B5B1049.9\nlaunch_site: KSC\npayload: Starlink\npayload_mass: 15,600 kg\norbit: LEO\ncustomer: SpaceX\nlaunch_outcome: Success\n\nbooster_landing: Success\nflight_number: 117\ndate: 9 May 2021\ntime: 06:42\nbv: F9 B5B1051.10\nlaunch_site: CCSFS\npayload: Starlink\npayload_mass: 15,600 kg\norbit: LEO\ncustomer: SpaceX\nlaunch_outcome: Success\n\nbooster_landing: Success\nflight_number: 118\ndate: 15 May 2021\ntime: 22:56\nbv: F9 B5B1058.8\nlaunch_site: KSC\npayload: Starlink\npayload_mass: ~14,000 kg\norbit: LEO\ncustomer: SpaceX Capella Space and Tyvak\nlaunch_outcome: Success\n\nbooster_landing: Success\nflight_number: 119\ndate: 26 May 2021\ntime: 18:59\nbv: F9 B5B1063.2\nlaunch_site: CCSFS\npayload: Starlink\npayload_mass: 15,600 kg\norbit: LEO\ncustomer: SpaceX\nlaunch_outcome: Success\n\nbooster_landing: Success\nflight_number: 120\ndate: 3 June 2021\ntime: 17:29\nbv: F9 B5B1067.1\nlaunch_site: KSC\npayload: SpaceX CRS-22\npayload_mass: 3,328 kg\norbit: LEO\ncustomer: NASA (CRS)\nlaunch_outcome: Success\n\nbooster_landing: Success\nflight_number: 121\ndate: 6 June 2021\ntime: 04:26\nbv: F9 B5\nlaunch_site: CCSFS\npayload: SXM-8\npayload_mass: 7,000 kg\norbit: GTO\ncustomer: Sirius XM\nlaunch_outcome: Success\n\nbooster_landing: Success\n"
                }
            ],
            "source": "extracted_row = 0\n#Extract each table \nfor table_number,table in enumerate(soup.find_all('table',\"wikitable plainrowheaders collapsible\")):\n   # get table row \n    for rows in table.find_all(\"tr\"):\n        #check to see if first table heading is as number corresponding to launch a number \n        if rows.th:\n            if rows.th.string:\n                flight_number=rows.th.string.strip()\n                flag=flight_number.isdigit()\n        else:\n            flag=False\n        #get table element \n        row=rows.find_all('td')\n        #if it is number save cells in a dictonary \n        if flag:\n            extracted_row += 1\n            # Flight Number value\n            # TODO: Append the flight_number into launch_dict with key `Flight No.`\n            launch_dict['Flight No.'].append(flight_number)\n            print('flight_number:',flight_number)\n            \n            datatimelist=date_time(row[0])\n            \n            # Date value\n            # TODO: Append the date into launch_dict with key `Date`\n            date = datatimelist[0].strip(',')\n            launch_dict['Date'].append(date)\n            print('date:', date)\n            \n            # Time value\n            # TODO: Append the time into launch_dict with key `Time`\n            launch_dict['Time'].append(time)\n            time = datatimelist[1]\n            print('time:', time)\n              \n            # Booster version\n            # TODO: Append the bv into launch_dict with key `Version Booster`\n            bv=booster_version(row[1])\n            if not(bv):\n                bv=row[1].a.string\n            launch_dict['Version Booster'].append(bv)\n            print('bv:', bv)\n            \n            # Launch Site\n            # TODO: Append the bv into launch_dict with key `Launch Site`\n            launch_site = row[2].a.string\n            launch_dict['Launch site'].append(launch_site)\n            print('launch_site:', launch_site)\n            \n            # Payload\n            # TODO: Append the payload into launch_dict with key `Payload`\n            payload = row[3].a.string\n            launch_dict['Payload'].append(payload)\n            print('payload:', payload)\n            \n            # Payload Mass\n            # TODO: Append the payload_mass into launch_dict with key `Payload mass`\n            payload_mass = get_mass(row[4])\n            launch_dict['Payload mass'].append(payload_mass)\n            print('payload_mass:', payload_mass)\n            \n            # Orbit\n            # TODO: Append the orbit into launch_dict with key `Orbit`\n            orbit = row[5].a.string\n            launch_dict['Orbit'].append(orbit)\n            print('orbit:', orbit)\n            \n            # Customer\n            # TODO: Append the customer into launch_dict with key `Customer`\n            customer = row[6].text.strip()\n            launch_dict['Customer'].append(customer)\n            #if isinstance(row[6].a.string, NoneType):\n            print('customer:', customer)\n            \n            # Launch outcome\n            # TODO: Append the launch_outcome into launch_dict with key `Launch outcome`\n            launch_outcome = list(row[7].strings)[0]\n            launch_dict['Launch outcome'].append(launch_outcome)\n            print('launch_outcome:', launch_outcome)\n            \n            # Booster landing\n            # TODO: Append the launch_outcome into launch_dict with key `Booster landing`\n            booster_landing = landing_status(row[8])\n            launch_dict['Booster landing'].append(booster_landing)\n            print('booster_landing:',booster_landing)\n            "
        },
        {
            "cell_type": "markdown",
            "metadata": {},
            "source": "After you have fill in the parsed launch record values into `launch_dict`, you can create a dataframe from it.\n"
        },
        {
            "cell_type": "code",
            "execution_count": 34,
            "metadata": {},
            "outputs": [
                {
                    "ename": "ValueError",
                    "evalue": "arrays must all be same length",
                    "output_type": "error",
                    "traceback": [
                        "\u001b[0;31m---------------------------------------------------------------------------\u001b[0m",
                        "\u001b[0;31mValueError\u001b[0m                                Traceback (most recent call last)",
                        "\u001b[0;32m/tmp/wsuser/ipykernel_154/3083619374.py\u001b[0m in \u001b[0;36m<module>\u001b[0;34m\u001b[0m\n\u001b[0;32m----> 1\u001b[0;31m \u001b[0mdf\u001b[0m\u001b[0;34m=\u001b[0m\u001b[0mpd\u001b[0m\u001b[0;34m.\u001b[0m\u001b[0mDataFrame\u001b[0m\u001b[0;34m(\u001b[0m\u001b[0mlaunch_dict\u001b[0m\u001b[0;34m)\u001b[0m\u001b[0;34m\u001b[0m\u001b[0;34m\u001b[0m\u001b[0m\n\u001b[0m",
                        "\u001b[0;32m/opt/conda/envs/Python-3.8-main/lib/python3.8/site-packages/pandas/core/frame.py\u001b[0m in \u001b[0;36m__init__\u001b[0;34m(self, data, index, columns, dtype, copy)\u001b[0m\n\u001b[1;32m    527\u001b[0m \u001b[0;34m\u001b[0m\u001b[0m\n\u001b[1;32m    528\u001b[0m         \u001b[0;32melif\u001b[0m \u001b[0misinstance\u001b[0m\u001b[0;34m(\u001b[0m\u001b[0mdata\u001b[0m\u001b[0;34m,\u001b[0m \u001b[0mdict\u001b[0m\u001b[0;34m)\u001b[0m\u001b[0;34m:\u001b[0m\u001b[0;34m\u001b[0m\u001b[0;34m\u001b[0m\u001b[0m\n\u001b[0;32m--> 529\u001b[0;31m             \u001b[0mmgr\u001b[0m \u001b[0;34m=\u001b[0m \u001b[0minit_dict\u001b[0m\u001b[0;34m(\u001b[0m\u001b[0mdata\u001b[0m\u001b[0;34m,\u001b[0m \u001b[0mindex\u001b[0m\u001b[0;34m,\u001b[0m \u001b[0mcolumns\u001b[0m\u001b[0;34m,\u001b[0m \u001b[0mdtype\u001b[0m\u001b[0;34m=\u001b[0m\u001b[0mdtype\u001b[0m\u001b[0;34m)\u001b[0m\u001b[0;34m\u001b[0m\u001b[0;34m\u001b[0m\u001b[0m\n\u001b[0m\u001b[1;32m    530\u001b[0m         \u001b[0;32melif\u001b[0m \u001b[0misinstance\u001b[0m\u001b[0;34m(\u001b[0m\u001b[0mdata\u001b[0m\u001b[0;34m,\u001b[0m \u001b[0mma\u001b[0m\u001b[0;34m.\u001b[0m\u001b[0mMaskedArray\u001b[0m\u001b[0;34m)\u001b[0m\u001b[0;34m:\u001b[0m\u001b[0;34m\u001b[0m\u001b[0;34m\u001b[0m\u001b[0m\n\u001b[1;32m    531\u001b[0m             \u001b[0;32mimport\u001b[0m \u001b[0mnumpy\u001b[0m\u001b[0;34m.\u001b[0m\u001b[0mma\u001b[0m\u001b[0;34m.\u001b[0m\u001b[0mmrecords\u001b[0m \u001b[0;32mas\u001b[0m \u001b[0mmrecords\u001b[0m\u001b[0;34m\u001b[0m\u001b[0;34m\u001b[0m\u001b[0m\n",
                        "\u001b[0;32m/opt/conda/envs/Python-3.8-main/lib/python3.8/site-packages/pandas/core/internals/construction.py\u001b[0m in \u001b[0;36minit_dict\u001b[0;34m(data, index, columns, dtype)\u001b[0m\n\u001b[1;32m    285\u001b[0m             \u001b[0marr\u001b[0m \u001b[0;32mif\u001b[0m \u001b[0;32mnot\u001b[0m \u001b[0mis_datetime64tz_dtype\u001b[0m\u001b[0;34m(\u001b[0m\u001b[0marr\u001b[0m\u001b[0;34m)\u001b[0m \u001b[0;32melse\u001b[0m \u001b[0marr\u001b[0m\u001b[0;34m.\u001b[0m\u001b[0mcopy\u001b[0m\u001b[0;34m(\u001b[0m\u001b[0;34m)\u001b[0m \u001b[0;32mfor\u001b[0m \u001b[0marr\u001b[0m \u001b[0;32min\u001b[0m \u001b[0marrays\u001b[0m\u001b[0;34m\u001b[0m\u001b[0;34m\u001b[0m\u001b[0m\n\u001b[1;32m    286\u001b[0m         ]\n\u001b[0;32m--> 287\u001b[0;31m     \u001b[0;32mreturn\u001b[0m \u001b[0marrays_to_mgr\u001b[0m\u001b[0;34m(\u001b[0m\u001b[0marrays\u001b[0m\u001b[0;34m,\u001b[0m \u001b[0mdata_names\u001b[0m\u001b[0;34m,\u001b[0m \u001b[0mindex\u001b[0m\u001b[0;34m,\u001b[0m \u001b[0mcolumns\u001b[0m\u001b[0;34m,\u001b[0m \u001b[0mdtype\u001b[0m\u001b[0;34m=\u001b[0m\u001b[0mdtype\u001b[0m\u001b[0;34m)\u001b[0m\u001b[0;34m\u001b[0m\u001b[0;34m\u001b[0m\u001b[0m\n\u001b[0m\u001b[1;32m    288\u001b[0m \u001b[0;34m\u001b[0m\u001b[0m\n\u001b[1;32m    289\u001b[0m \u001b[0;34m\u001b[0m\u001b[0m\n",
                        "\u001b[0;32m/opt/conda/envs/Python-3.8-main/lib/python3.8/site-packages/pandas/core/internals/construction.py\u001b[0m in \u001b[0;36marrays_to_mgr\u001b[0;34m(arrays, arr_names, index, columns, dtype, verify_integrity)\u001b[0m\n\u001b[1;32m     78\u001b[0m         \u001b[0;31m# figure out the index, if necessary\u001b[0m\u001b[0;34m\u001b[0m\u001b[0;34m\u001b[0m\u001b[0;34m\u001b[0m\u001b[0m\n\u001b[1;32m     79\u001b[0m         \u001b[0;32mif\u001b[0m \u001b[0mindex\u001b[0m \u001b[0;32mis\u001b[0m \u001b[0;32mNone\u001b[0m\u001b[0;34m:\u001b[0m\u001b[0;34m\u001b[0m\u001b[0;34m\u001b[0m\u001b[0m\n\u001b[0;32m---> 80\u001b[0;31m             \u001b[0mindex\u001b[0m \u001b[0;34m=\u001b[0m \u001b[0mextract_index\u001b[0m\u001b[0;34m(\u001b[0m\u001b[0marrays\u001b[0m\u001b[0;34m)\u001b[0m\u001b[0;34m\u001b[0m\u001b[0;34m\u001b[0m\u001b[0m\n\u001b[0m\u001b[1;32m     81\u001b[0m         \u001b[0;32melse\u001b[0m\u001b[0;34m:\u001b[0m\u001b[0;34m\u001b[0m\u001b[0;34m\u001b[0m\u001b[0m\n\u001b[1;32m     82\u001b[0m             \u001b[0mindex\u001b[0m \u001b[0;34m=\u001b[0m \u001b[0mensure_index\u001b[0m\u001b[0;34m(\u001b[0m\u001b[0mindex\u001b[0m\u001b[0;34m)\u001b[0m\u001b[0;34m\u001b[0m\u001b[0;34m\u001b[0m\u001b[0m\n",
                        "\u001b[0;32m/opt/conda/envs/Python-3.8-main/lib/python3.8/site-packages/pandas/core/internals/construction.py\u001b[0m in \u001b[0;36mextract_index\u001b[0;34m(data)\u001b[0m\n\u001b[1;32m    399\u001b[0m             \u001b[0mlengths\u001b[0m \u001b[0;34m=\u001b[0m \u001b[0mlist\u001b[0m\u001b[0;34m(\u001b[0m\u001b[0mset\u001b[0m\u001b[0;34m(\u001b[0m\u001b[0mraw_lengths\u001b[0m\u001b[0;34m)\u001b[0m\u001b[0;34m)\u001b[0m\u001b[0;34m\u001b[0m\u001b[0;34m\u001b[0m\u001b[0m\n\u001b[1;32m    400\u001b[0m             \u001b[0;32mif\u001b[0m \u001b[0mlen\u001b[0m\u001b[0;34m(\u001b[0m\u001b[0mlengths\u001b[0m\u001b[0;34m)\u001b[0m \u001b[0;34m>\u001b[0m \u001b[0;36m1\u001b[0m\u001b[0;34m:\u001b[0m\u001b[0;34m\u001b[0m\u001b[0;34m\u001b[0m\u001b[0m\n\u001b[0;32m--> 401\u001b[0;31m                 \u001b[0;32mraise\u001b[0m \u001b[0mValueError\u001b[0m\u001b[0;34m(\u001b[0m\u001b[0;34m\"arrays must all be same length\"\u001b[0m\u001b[0;34m)\u001b[0m\u001b[0;34m\u001b[0m\u001b[0;34m\u001b[0m\u001b[0m\n\u001b[0m\u001b[1;32m    402\u001b[0m \u001b[0;34m\u001b[0m\u001b[0m\n\u001b[1;32m    403\u001b[0m             \u001b[0;32mif\u001b[0m \u001b[0mhave_dicts\u001b[0m\u001b[0;34m:\u001b[0m\u001b[0;34m\u001b[0m\u001b[0;34m\u001b[0m\u001b[0m\n",
                        "\u001b[0;31mValueError\u001b[0m: arrays must all be same length"
                    ]
                }
            ],
            "source": "df=pd.DataFrame(launch_dict)"
        },
        {
            "cell_type": "markdown",
            "metadata": {},
            "source": "We can now export it to a <b>CSV</b> for the next section, but to make the answers consistent and in case you have difficulties finishing this lab.\n\nFollowing labs will be using a provided dataset to make each lab independent.\n"
        },
        {
            "cell_type": "markdown",
            "metadata": {},
            "source": "<code>df.to_csv('spacex_web_scraped.csv', index=False)</code>\n"
        },
        {
            "cell_type": "markdown",
            "metadata": {},
            "source": "## Authors\n"
        },
        {
            "cell_type": "markdown",
            "metadata": {},
            "source": "<a href=\"https://www.linkedin.com/in/yan-luo-96288783/?utm_medium=Exinfluencer&utm_source=Exinfluencer&utm_content=000026UJ&utm_term=10006555&utm_id=NA-SkillsNetwork-Channel-SkillsNetworkCoursesIBMDS0321ENSkillsNetwork26802033-2021-01-01\">Yan Luo</a>\n"
        },
        {
            "cell_type": "markdown",
            "metadata": {},
            "source": "<a href=\"https://www.linkedin.com/in/nayefaboutayoun/?utm_medium=Exinfluencer&utm_source=Exinfluencer&utm_content=000026UJ&utm_term=10006555&utm_id=NA-SkillsNetwork-Channel-SkillsNetworkCoursesIBMDS0321ENSkillsNetwork26802033-2021-01-01\">Nayef Abou Tayoun</a>\n"
        },
        {
            "cell_type": "markdown",
            "metadata": {},
            "source": "## Change Log\n"
        },
        {
            "cell_type": "markdown",
            "metadata": {},
            "source": "| Date (YYYY-MM-DD) | Version | Changed By | Change Description          |\n| ----------------- | ------- | ---------- | --------------------------- |\n| 2021-06-09        | 1.0     | Yan Luo    | Tasks updates               |\n| 2020-11-10        | 1.0     | Nayef      | Created the initial version |\n"
        },
        {
            "cell_type": "markdown",
            "metadata": {},
            "source": "Copyright \u00a9 2021 IBM Corporation. All rights reserved.\n"
        }
    ],
    "metadata": {
        "kernelspec": {
            "display_name": "Python 3.8",
            "language": "python",
            "name": "python3"
        },
        "language_info": {
            "codemirror_mode": {
                "name": "ipython",
                "version": 3
            },
            "file_extension": ".py",
            "mimetype": "text/x-python",
            "name": "python",
            "nbconvert_exporter": "python",
            "pygments_lexer": "ipython3",
            "version": "3.8.12"
        }
    },
    "nbformat": 4,
    "nbformat_minor": 4
}